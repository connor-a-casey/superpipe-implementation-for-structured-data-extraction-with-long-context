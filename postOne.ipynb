{
 "cells": [
  {
   "cell_type": "markdown",
   "metadata": {},
   "source": [
    "## step 1: building the pipeline"
   ]
  },
  {
   "cell_type": "code",
   "execution_count": 1,
   "metadata": {},
   "outputs": [],
   "source": [
    "from superpipe.steps import LLMStructuredStep, CustomStep, SERPEnrichmentStep\n",
    "from superpipe.clients import init_openai\n",
    "from superpipe import models\n",
    "from pydantic import BaseModel, Field\n",
    "import os\n",
    "\n",
    "# Get the OpenAI API key from the environment variable\n",
    "openai_api_key = os.getenv(\"OPENAI_API_KEY\")\n",
    "\n",
    "# Initialize the OpenAI client with the API key\n",
    "if openai_api_key is not None:\n",
    "    init_openai(openai_api_key)\n",
    "else:\n",
    "    print(\"OPENAI_API_KEY environment variable not set\")\n",
    "\n",
    "\n",
    "# Get the api key from the environment variable, or raise an error if it doesn't exist\n",
    "api_key = os.getenv(\"SERPAPI_API_KEY\")\n",
    "if api_key is None:\n",
    "    raise ValueError(\"SERPAPI_API_KEY environment variable not set\")\n",
    "\n",
    "\n",
    "\n",
    "# Step 1: use Superpipe's built-in SERP enrichment step to search for the person's Wikipedia page\n",
    "# Include a unique \"name\" for the step that will be used to reference this step's output in future steps\n",
    "\n",
    "search_step = SERPEnrichmentStep(\n",
    "    prompt=lambda row: f\"{row['name']} wikipedia\",\n",
    "    name=\"search\"\n",
    ")\n",
    "\n",
    "\n",
    "# Step 2: Use an LLM to extract the Wikipedia URL from the search results\n",
    "# First, define a Pydantic model that specifies the structured output we want from the LLM\n",
    "\n",
    "class ParseSearchResult(BaseModel):\n",
    "    wikipedia_url: str = Field(description=\"The URL of the Wikipedia page for the person\")\n",
    "\n",
    "# Then we use the built-in LLMStructuredStep and specify a model and a prompt\n",
    "# The prompt is a function that has access to all the fields in the input as well as the outputs of previous steps\n",
    "\n",
    "parse_search_step = LLMStructuredStep(\n",
    "    model=models.gpt35,\n",
    "    prompt=lambda row: f\"Extract the Wikipedia URL for {row['name']} from the following search results: \\n\\n {row['search']}\",\n",
    "    out_schema=ParseSearchResult,\n",
    "    name=\"parse_search\"\n",
    ")"
   ]
  },
  {
   "cell_type": "code",
   "execution_count": 2,
   "metadata": {},
   "outputs": [
    {
     "name": "stdout",
     "output_type": "stream",
     "text": [
      "Search Output: {'name': 'Jean-Paul Sartre', 'search': '{\"searchParameters\":{\"q\":\"Jean-Paul Sartre wikipedia\",\"type\":\"search\",\"engine\":\"google\"},\"organic\":[{\"title\":\"Jean-Paul Sartre - Wikipedia\",\"link\":\"https://en.wikipedia.org/wiki/Jean-Paul_Sartre\",\"snippet\":\"Sartre was one of the key figures in the philosophy of existentialism (and phenomenology). His work has influenced sociology, critical theory, post-colonial ...\",\"sitelinks\":[{\"title\":\"Nausea (novel)\",\"link\":\"https://en.wikipedia.org/wiki/Nausea_(novel)\"},{\"title\":\"The Wall (Sartre short story...\",\"link\":\"https://en.wikipedia.org/wiki/The_Wall_(Sartre_short_story_collection)\"},{\"title\":\"Simone de Beauvoir\",\"link\":\"https://en.wikipedia.org/wiki/Simone_de_Beauvoir\"},{\"title\":\"Agrégation\",\"link\":\"https://en.wikipedia.org/wiki/Agr%C3%A9gation\"}],\"position\":1},{\"title\":\"Jean-Paul Sartre - Simple English Wikipedia, the free encyclopedia\",\"link\":\"https://simple.wikipedia.org/wiki/Jean-Paul_Sartre\",\"snippet\":\"Jean-Paul Charles Aymard Sartre (21 June 1905 – 15 April 1980) was a French existentialist philosopher, novelist, playwright, screenwriter, and critic.\",\"position\":2},{\"title\":\"Jean-Paul Sartre - Wikidata\",\"link\":\"https://en.wikipedia.org/wiki/d:Q9364\",\"snippet\":\"Jean-Paul Sartre. French existentialist philosopher (1905–1980). Jean Paul Sartre; J.P. Sartre; Sarutoru; Rangbao\\'er Sate; Jacques ...\",\"position\":3},{\"title\":\"Jean-Paul Sartre - Wikipedia\",\"link\":\"https://hif.wikipedia.org/wiki/Jean-Paul_Sartre\",\"snippet\":\"Jean-Paul Charles Aymard Sartre (21 June 1905 – 15 April 1980) ek French existentialist (way of thinking about human freedom) philosopher rahaa.\",\"position\":4},{\"title\":\"Jean-Paul Sartre - Wikipedia\",\"link\":\"https://sco.wikipedia.org/wiki/Jean-Paul_Sartre\",\"snippet\":\"Jean-Paul-Charles-Aymard Sartre wis a French filosofer, playwricht, novelist, poleetical activist, biographer, an leeterar creetic.\",\"position\":5},{\"title\":\"Jean-Paul Sartre | Biography, Ideas, Existentialism, Being and ...\",\"link\":\"https://www.britannica.com/biography/Jean-Paul-Sartre\",\"snippet\":\"Jean-Paul Sartre, French philosopher, novelist, and playwright, best known as the leading exponent of existentialism in the 20th century.\",\"date\":\"Feb 16, 2024\",\"position\":6},{\"title\":\"Category:Jean-Paul Sartre - Wikipedia\",\"link\":\"https://en.wikipedia.org/wiki/Category:Jean-Paul_Sartre\",\"snippet\":\"This category has the following 4 subcategories, out of 4 total. C. Cultural depictions of Jean- ...\",\"position\":7},{\"title\":\"Category:Books by Jean-Paul Sartre - Wikipedia\",\"link\":\"https://en.wikipedia.org/wiki/Category:Books_by_Jean-Paul_Sartre\",\"snippet\":\"Category:Books by Jean-Paul Sartre ... For more information, see Jean-Paul Sartre. -for non-fiction books by the author.\",\"position\":8},{\"title\":\"Jean-Paul Sartre - Wikiquote\",\"link\":\"https://en.wikiquote.org/wiki/Jean-Paul_Sartre\",\"snippet\":\"Jean-Paul Charles Aymard Sartre (21 June 1905 – 15 April 1980), normally known simply as Jean-Paul Sartre, was a French existentialist philosopher, ...\",\"position\":9},{\"title\":\"Jean-Paul Sartre Wikipedia | PDF - Scribd\",\"link\":\"https://www.scribd.com/document/631834382/Jean-Paul-Sartre-Wikipedia-doc\",\"snippet\":\"Jean-Paul Sartre. From Wikipedia, the free encyclopedia. Jean-Paul Charles Aymard Sartre. Born 21 June 1905. Paris, France 15 April 1980 (aged 74) Died\",\"position\":10}],\"peopleAlsoAsk\":[{\"question\":\"What is Jean-Paul Sartre most famous for?\",\"snippet\":\"Jean-Paul Sartre (born June 21, 1905, Paris, France—died April 15, 1980, Paris) French philosopher, novelist, and playwright, best known as the leading exponent of existentialism in the 20th century.\\\\nFeb 16, 2024\",\"title\":\"Jean-Paul Sartre | Biography, Ideas, Existentialism, Being and ...\",\"link\":\"https://www.britannica.com/biography/Jean-Paul-Sartre\"},{\"question\":\"What is the main philosophy of Sartre?\",\"snippet\":\"Sartre\\'s pioneering combination of Existentialism and Marxism yielded a political philosophy uniquely sensitive to the tension between individual freedom and the forces of history. As a Marxist he believed that societies were best understood as arenas of struggle between powerful and powerless groups.\",\"title\":\"Sartre\\'s Political Philosophy\",\"link\":\"https://iep.utm.edu/sartre-p/\"},{\"question\":\"What was Jean-Paul Sartre\\'s famous saying?\",\"snippet\":\"Existentialist philosopher Jean-Paul Sartre argued that “Hell is—other people”; what did he mean by that?\",\"title\":\"“Hell Is Other People”: Sartre\\'s Famous Quote Explained\",\"link\":\"https://www.thecollector.com/jean-paul-sartre-hell-is-other-people/\"},{\"question\":\"Why did Sartre refuse the Nobel Prize?\",\"snippet\":\"The 59-year-old author Jean-Paul Sartre declined the Nobel Prize in Literature, which he was awarded in October 1964. He said he always refused official distinctions and did not want to be “institutionalised”.\",\"title\":\"Jean-Paul Sartre – Documentary - NobelPrize.org\",\"link\":\"https://www.nobelprize.org/prizes/literature/1964/sartre/documentary/\"}],\"relatedSearches\":[{\"query\":\"Sartre roman\"},{\"query\":\"Jean-Paul Sartre wife\"},{\"query\":\"jean-paul sartre cause of death\"},{\"query\":\"jean-paul sartre famous works\"},{\"query\":\"jean-paul sartre quotes\"},{\"query\":\"Jean-Paul Sartre philosophy\"},{\"query\":\"Jean-Paul Sartre pronunciation\"},{\"query\":\"Jean Paul Sartre died\"},{\"query\":\"jean-paul sartre works\"}]}'}\n"
     ]
    }
   ],
   "source": [
    "#test one (search step)\n",
    "\n",
    "search_output = search_step.run({\"name\": \"Jean-Paul Sartre\"})\n",
    "print(\"Search Output:\", search_output)\n"
   ]
  },
  {
   "cell_type": "code",
   "execution_count": 3,
   "metadata": {},
   "outputs": [
    {
     "name": "stdout",
     "output_type": "stream",
     "text": [
      "Parse Search Result Output: {'name': 'Jean-Paul Sartre', 'search': '{\"searchParameters\":{\"q\":\"Jean-Paul Sartre wikipedia\",\"type\":\"search\",\"engine\":\"google\"},\"organic\":[{\"title\":\"Jean-Paul Sartre - Wikipedia\",\"link\":\"https://en.wikipedia.org/wiki/Jean-Paul_Sartre\",\"snippet\":\"Sartre was one of the key figures in the philosophy of existentialism (and phenomenology). His work has influenced sociology, critical theory, post-colonial ...\",\"sitelinks\":[{\"title\":\"Nausea (novel)\",\"link\":\"https://en.wikipedia.org/wiki/Nausea_(novel)\"},{\"title\":\"The Wall (Sartre short story...\",\"link\":\"https://en.wikipedia.org/wiki/The_Wall_(Sartre_short_story_collection)\"},{\"title\":\"Simone de Beauvoir\",\"link\":\"https://en.wikipedia.org/wiki/Simone_de_Beauvoir\"},{\"title\":\"Agrégation\",\"link\":\"https://en.wikipedia.org/wiki/Agr%C3%A9gation\"}],\"position\":1},{\"title\":\"Jean-Paul Sartre - Simple English Wikipedia, the free encyclopedia\",\"link\":\"https://simple.wikipedia.org/wiki/Jean-Paul_Sartre\",\"snippet\":\"Jean-Paul Charles Aymard Sartre (21 June 1905 – 15 April 1980) was a French existentialist philosopher, novelist, playwright, screenwriter, and critic.\",\"position\":2},{\"title\":\"Jean-Paul Sartre - Wikidata\",\"link\":\"https://en.wikipedia.org/wiki/d:Q9364\",\"snippet\":\"Jean-Paul Sartre. French existentialist philosopher (1905–1980). Jean Paul Sartre; J.P. Sartre; Sarutoru; Rangbao\\'er Sate; Jacques ...\",\"position\":3},{\"title\":\"Jean-Paul Sartre - Wikipedia\",\"link\":\"https://hif.wikipedia.org/wiki/Jean-Paul_Sartre\",\"snippet\":\"Jean-Paul Charles Aymard Sartre (21 June 1905 – 15 April 1980) ek French existentialist (way of thinking about human freedom) philosopher rahaa.\",\"position\":4},{\"title\":\"Jean-Paul Sartre - Wikipedia\",\"link\":\"https://sco.wikipedia.org/wiki/Jean-Paul_Sartre\",\"snippet\":\"Jean-Paul-Charles-Aymard Sartre wis a French filosofer, playwricht, novelist, poleetical activist, biographer, an leeterar creetic.\",\"position\":5},{\"title\":\"Jean-Paul Sartre | Biography, Ideas, Existentialism, Being and ...\",\"link\":\"https://www.britannica.com/biography/Jean-Paul-Sartre\",\"snippet\":\"Jean-Paul Sartre, French philosopher, novelist, and playwright, best known as the leading exponent of existentialism in the 20th century.\",\"date\":\"Feb 16, 2024\",\"position\":6},{\"title\":\"Category:Jean-Paul Sartre - Wikipedia\",\"link\":\"https://en.wikipedia.org/wiki/Category:Jean-Paul_Sartre\",\"snippet\":\"This category has the following 4 subcategories, out of 4 total. C. Cultural depictions of Jean- ...\",\"position\":7},{\"title\":\"Category:Books by Jean-Paul Sartre - Wikipedia\",\"link\":\"https://en.wikipedia.org/wiki/Category:Books_by_Jean-Paul_Sartre\",\"snippet\":\"Category:Books by Jean-Paul Sartre ... For more information, see Jean-Paul Sartre. -for non-fiction books by the author.\",\"position\":8},{\"title\":\"Jean-Paul Sartre - Wikiquote\",\"link\":\"https://en.wikiquote.org/wiki/Jean-Paul_Sartre\",\"snippet\":\"Jean-Paul Charles Aymard Sartre (21 June 1905 – 15 April 1980), normally known simply as Jean-Paul Sartre, was a French existentialist philosopher, ...\",\"position\":9},{\"title\":\"Jean-Paul Sartre Wikipedia | PDF - Scribd\",\"link\":\"https://www.scribd.com/document/631834382/Jean-Paul-Sartre-Wikipedia-doc\",\"snippet\":\"Jean-Paul Sartre. From Wikipedia, the free encyclopedia. Jean-Paul Charles Aymard Sartre. Born 21 June 1905. Paris, France 15 April 1980 (aged 74) Died\",\"position\":10}],\"peopleAlsoAsk\":[{\"question\":\"What is Jean-Paul Sartre most famous for?\",\"snippet\":\"Jean-Paul Sartre (born June 21, 1905, Paris, France—died April 15, 1980, Paris) French philosopher, novelist, and playwright, best known as the leading exponent of existentialism in the 20th century.\\\\nFeb 16, 2024\",\"title\":\"Jean-Paul Sartre | Biography, Ideas, Existentialism, Being and ...\",\"link\":\"https://www.britannica.com/biography/Jean-Paul-Sartre\"},{\"question\":\"What is the main philosophy of Sartre?\",\"snippet\":\"Sartre\\'s pioneering combination of Existentialism and Marxism yielded a political philosophy uniquely sensitive to the tension between individual freedom and the forces of history. As a Marxist he believed that societies were best understood as arenas of struggle between powerful and powerless groups.\",\"title\":\"Sartre\\'s Political Philosophy\",\"link\":\"https://iep.utm.edu/sartre-p/\"},{\"question\":\"What was Jean-Paul Sartre\\'s famous saying?\",\"snippet\":\"Existentialist philosopher Jean-Paul Sartre argued that “Hell is—other people”; what did he mean by that?\",\"title\":\"“Hell Is Other People”: Sartre\\'s Famous Quote Explained\",\"link\":\"https://www.thecollector.com/jean-paul-sartre-hell-is-other-people/\"},{\"question\":\"Why did Sartre refuse the Nobel Prize?\",\"snippet\":\"The 59-year-old author Jean-Paul Sartre declined the Nobel Prize in Literature, which he was awarded in October 1964. He said he always refused official distinctions and did not want to be “institutionalised”.\",\"title\":\"Jean-Paul Sartre – Documentary - NobelPrize.org\",\"link\":\"https://www.nobelprize.org/prizes/literature/1964/sartre/documentary/\"}],\"relatedSearches\":[{\"query\":\"Sartre roman\"},{\"query\":\"Jean-Paul Sartre wife\"},{\"query\":\"jean-paul sartre cause of death\"},{\"query\":\"jean-paul sartre famous works\"},{\"query\":\"jean-paul sartre quotes\"},{\"query\":\"Jean-Paul Sartre philosophy\"},{\"query\":\"Jean-Paul Sartre pronunciation\"},{\"query\":\"Jean Paul Sartre died\"},{\"query\":\"jean-paul sartre works\"}]}', '__parse_search__': {'input_tokens': 0, 'output_tokens': 0, 'success': False, 'latency': 0.0, 'input_cost': 0.0, 'output_cost': 0.0, 'error': \"Error code: 429 - {'error': {'message': 'You exceeded your current quota, please check your plan and billing details. For more information on this error, read the docs: https://platform.openai.com/docs/guides/error-codes/api-errors.', 'type': 'insufficient_quota', 'param': None, 'code': 'insufficient_quota'}}\"}}\n"
     ]
    }
   ],
   "source": [
    "# test two (parse search result step)\n",
    "\n",
    "parse_search_output = parse_search_step.run(search_output)\n",
    "print(\"Parse Search Result Output:\", parse_search_output)"
   ]
  },
  {
   "cell_type": "code",
   "execution_count": 4,
   "metadata": {},
   "outputs": [
    {
     "ename": "NameError",
     "evalue": "name 'fetch_wikipedia_step' is not defined",
     "output_type": "error",
     "traceback": [
      "\u001b[0;31m---------------------------------------------------------------------------\u001b[0m",
      "\u001b[0;31mNameError\u001b[0m                                 Traceback (most recent call last)",
      "Cell \u001b[0;32mIn[4], line 3\u001b[0m\n\u001b[1;32m      1\u001b[0m \u001b[38;5;66;03m# test three (fetch wikipedia step)\u001b[39;00m\n\u001b[0;32m----> 3\u001b[0m fetch_wikipedia_output \u001b[38;5;241m=\u001b[39m \u001b[43mfetch_wikipedia_step\u001b[49m\u001b[38;5;241m.\u001b[39mrun(parse_search_output)\n\u001b[1;32m      4\u001b[0m \u001b[38;5;28mprint\u001b[39m(\u001b[38;5;124m\"\u001b[39m\u001b[38;5;124mFetch Wikipedia Output:\u001b[39m\u001b[38;5;124m\"\u001b[39m, fetch_wikipedia_output)\n",
      "\u001b[0;31mNameError\u001b[0m: name 'fetch_wikipedia_step' is not defined"
     ]
    }
   ],
   "source": [
    "# test three (fetch wikipedia step)\n",
    "\n",
    "fetch_wikipedia_output = fetch_wikipedia_step.run(parse_search_output)\n",
    "print(\"Fetch Wikipedia Output:\", fetch_wikipedia_output)"
   ]
  },
  {
   "cell_type": "code",
   "execution_count": null,
   "metadata": {},
   "outputs": [
    {
     "ename": "KeyError",
     "evalue": "'wikipedia_url'",
     "output_type": "error",
     "traceback": [
      "\u001b[0;31m---------------------------------------------------------------------------\u001b[0m",
      "\u001b[0;31mKeyError\u001b[0m                                  Traceback (most recent call last)",
      "Cell \u001b[0;32mIn[8], line 41\u001b[0m\n\u001b[1;32m     32\u001b[0m \u001b[38;5;66;03m# Finally we define and run the pipeline\u001b[39;00m\n\u001b[1;32m     34\u001b[0m pipeline \u001b[38;5;241m=\u001b[39m Pipeline([\n\u001b[1;32m     35\u001b[0m   search_step,\n\u001b[1;32m     36\u001b[0m   parse_search_step,\n\u001b[1;32m     37\u001b[0m   fetch_wikipedia_step,\n\u001b[1;32m     38\u001b[0m   extract_step\n\u001b[1;32m     39\u001b[0m ])\n\u001b[0;32m---> 41\u001b[0m output \u001b[38;5;241m=\u001b[39m \u001b[43mpipeline\u001b[49m\u001b[38;5;241;43m.\u001b[39;49m\u001b[43mrun\u001b[49m\u001b[43m(\u001b[49m\u001b[43m{\u001b[49m\u001b[38;5;124;43m\"\u001b[39;49m\u001b[38;5;124;43mname\u001b[39;49m\u001b[38;5;124;43m\"\u001b[39;49m\u001b[43m:\u001b[49m\u001b[43m \u001b[49m\u001b[38;5;124;43m\"\u001b[39;49m\u001b[38;5;124;43mJean-Paul Sartre\u001b[39;49m\u001b[38;5;124;43m\"\u001b[39;49m\u001b[43m}\u001b[49m\u001b[43m)\u001b[49m\n\u001b[1;32m     42\u001b[0m \u001b[38;5;28mprint\u001b[39m(json\u001b[38;5;241m.\u001b[39mdumps(output, indent\u001b[38;5;241m=\u001b[39m\u001b[38;5;241m2\u001b[39m))\n",
      "File \u001b[0;32m~/Downloads/superpipe/.venv/lib/python3.10/site-packages/superpipe/pipeline.py:82\u001b[0m, in \u001b[0;36mPipeline.run\u001b[0;34m(self, data, row_wise, verbose)\u001b[0m\n\u001b[1;32m     80\u001b[0m \u001b[38;5;28;01melse\u001b[39;00m:\n\u001b[1;32m     81\u001b[0m     \u001b[38;5;28;01mfor\u001b[39;00m step \u001b[38;5;129;01min\u001b[39;00m \u001b[38;5;28mself\u001b[39m\u001b[38;5;241m.\u001b[39msteps:\n\u001b[0;32m---> 82\u001b[0m         \u001b[43mstep\u001b[49m\u001b[38;5;241;43m.\u001b[39;49m\u001b[43mrun\u001b[49m\u001b[43m(\u001b[49m\u001b[43mdata\u001b[49m\u001b[43m,\u001b[49m\u001b[43m \u001b[49m\u001b[43mverbose\u001b[49m\u001b[43m)\u001b[49m\n\u001b[1;32m     83\u001b[0m \u001b[38;5;28;01mif\u001b[39;00m \u001b[38;5;28misinstance\u001b[39m(data, pd\u001b[38;5;241m.\u001b[39mDataFrame):\n\u001b[1;32m     84\u001b[0m     \u001b[38;5;28mself\u001b[39m\u001b[38;5;241m.\u001b[39mdata \u001b[38;5;241m=\u001b[39m data\n",
      "File \u001b[0;32m~/Downloads/superpipe/.venv/lib/python3.10/site-packages/superpipe/steps/step.py:139\u001b[0m, in \u001b[0;36mStep.run\u001b[0;34m(self, data, verbose)\u001b[0m\n\u001b[1;32m    137\u001b[0m     data[new_fields\u001b[38;5;241m.\u001b[39mcolumns] \u001b[38;5;241m=\u001b[39m new_fields\n\u001b[1;32m    138\u001b[0m \u001b[38;5;28;01melse\u001b[39;00m:\n\u001b[0;32m--> 139\u001b[0m     result \u001b[38;5;241m=\u001b[39m \u001b[38;5;28;43mself\u001b[39;49m\u001b[38;5;241;43m.\u001b[39;49m\u001b[43m_run\u001b[49m\u001b[43m(\u001b[49m\u001b[43mdata\u001b[49m\u001b[43m)\u001b[49m\n\u001b[1;32m    140\u001b[0m     \u001b[38;5;28mself\u001b[39m\u001b[38;5;241m.\u001b[39m_update_statistics(result\u001b[38;5;241m.\u001b[39mstatistics)\n\u001b[1;32m    141\u001b[0m     \u001b[38;5;28;01mif\u001b[39;00m \u001b[38;5;28misinstance\u001b[39m(data, pd\u001b[38;5;241m.\u001b[39mSeries):\n",
      "File \u001b[0;32m~/Downloads/superpipe/.venv/lib/python3.10/site-packages/superpipe/steps/custom.py:51\u001b[0m, in \u001b[0;36mCustomStep._run\u001b[0;34m(self, row)\u001b[0m\n\u001b[1;32m     39\u001b[0m \u001b[38;5;250m\u001b[39m\u001b[38;5;124;03m\"\"\"\u001b[39;00m\n\u001b[1;32m     40\u001b[0m \u001b[38;5;124;03mApplies the transformation function to a single row of data.\u001b[39;00m\n\u001b[1;32m     41\u001b[0m \n\u001b[0;32m   (...)\u001b[0m\n\u001b[1;32m     48\u001b[0m \u001b[38;5;124;03m    Dict: The transformed row, with keys corresponding to the fields defined in the `out_schema` Pydantic model.\u001b[39;00m\n\u001b[1;32m     49\u001b[0m \u001b[38;5;124;03m\"\"\"\u001b[39;00m\n\u001b[1;32m     50\u001b[0m transform \u001b[38;5;241m=\u001b[39m \u001b[38;5;28mself\u001b[39m\u001b[38;5;241m.\u001b[39mtransform\n\u001b[0;32m---> 51\u001b[0m transformed, statistics \u001b[38;5;241m=\u001b[39m \u001b[43mwith_statistics\u001b[49m\u001b[43m(\u001b[49m\u001b[43mtransform\u001b[49m\u001b[43m)\u001b[49m\u001b[43m(\u001b[49m\u001b[43mrow\u001b[49m\u001b[43m)\u001b[49m\n\u001b[1;32m     52\u001b[0m result \u001b[38;5;241m=\u001b[39m {\u001b[38;5;124mf\u001b[39m\u001b[38;5;124m\"\u001b[39m\u001b[38;5;132;01m{\u001b[39;00m\u001b[38;5;28mself\u001b[39m\u001b[38;5;241m.\u001b[39mname\u001b[38;5;132;01m}\u001b[39;00m\u001b[38;5;124m\"\u001b[39m: transformed}\n\u001b[1;32m     53\u001b[0m \u001b[38;5;28;01mreturn\u001b[39;00m StepResult(fields\u001b[38;5;241m=\u001b[39mresult, statistics\u001b[38;5;241m=\u001b[39mstatistics)\n",
      "File \u001b[0;32m~/Downloads/superpipe/.venv/lib/python3.10/site-packages/superpipe/steps/utils.py:38\u001b[0m, in \u001b[0;36mwith_statistics.<locals>.wrapper\u001b[0;34m(*args, **kwargs)\u001b[0m\n\u001b[1;32m     36\u001b[0m \u001b[38;5;28;01mexcept\u001b[39;00m \u001b[38;5;167;01mException\u001b[39;00m \u001b[38;5;28;01mas\u001b[39;00m e:\n\u001b[1;32m     37\u001b[0m     success \u001b[38;5;241m=\u001b[39m \u001b[38;5;28;01mFalse\u001b[39;00m\n\u001b[0;32m---> 38\u001b[0m     \u001b[38;5;28;01mraise\u001b[39;00m e\n\u001b[1;32m     39\u001b[0m \u001b[38;5;28;01mfinally\u001b[39;00m:\n\u001b[1;32m     40\u001b[0m     end_time \u001b[38;5;241m=\u001b[39m time\u001b[38;5;241m.\u001b[39mtime()\n",
      "File \u001b[0;32m~/Downloads/superpipe/.venv/lib/python3.10/site-packages/superpipe/steps/utils.py:31\u001b[0m, in \u001b[0;36mwith_statistics.<locals>.wrapper\u001b[0;34m(*args, **kwargs)\u001b[0m\n\u001b[1;32m     29\u001b[0m \u001b[38;5;28;01mtry\u001b[39;00m:\n\u001b[1;32m     30\u001b[0m     start_time \u001b[38;5;241m=\u001b[39m time\u001b[38;5;241m.\u001b[39mtime()\n\u001b[0;32m---> 31\u001b[0m     result \u001b[38;5;241m=\u001b[39m \u001b[43mfn\u001b[49m\u001b[43m(\u001b[49m\u001b[38;5;241;43m*\u001b[39;49m\u001b[43margs\u001b[49m\u001b[43m,\u001b[49m\u001b[43m \u001b[49m\u001b[38;5;241;43m*\u001b[39;49m\u001b[38;5;241;43m*\u001b[39;49m\u001b[43mkwargs\u001b[49m\u001b[43m)\u001b[49m\n\u001b[1;32m     32\u001b[0m     success \u001b[38;5;241m=\u001b[39m \u001b[38;5;28;01mTrue\u001b[39;00m\n\u001b[1;32m     33\u001b[0m \u001b[38;5;28;01mexcept\u001b[39;00m ShouldNotInterrupt:\n",
      "Cell \u001b[0;32mIn[8], line 13\u001b[0m, in \u001b[0;36m<lambda>\u001b[0;34m(row)\u001b[0m\n\u001b[1;32m      7\u001b[0m h\u001b[38;5;241m.\u001b[39mignore_links \u001b[38;5;241m=\u001b[39m \u001b[38;5;28;01mTrue\u001b[39;00m\n\u001b[1;32m      9\u001b[0m \u001b[38;5;66;03m# Step 3: we create a CustomStep that can execute any arbitrary function (transform)\u001b[39;00m\n\u001b[1;32m     10\u001b[0m \u001b[38;5;66;03m# The function fetches the contents of the wikipedia url and converts them to markdown\u001b[39;00m\n\u001b[1;32m     12\u001b[0m fetch_wikipedia_step \u001b[38;5;241m=\u001b[39m CustomStep(\n\u001b[0;32m---> 13\u001b[0m   transform\u001b[38;5;241m=\u001b[39m\u001b[38;5;28;01mlambda\u001b[39;00m row: h\u001b[38;5;241m.\u001b[39mhandle(requests\u001b[38;5;241m.\u001b[39mget(\u001b[43mrow\u001b[49m\u001b[43m[\u001b[49m\u001b[38;5;124;43m'\u001b[39;49m\u001b[38;5;124;43mwikipedia_url\u001b[39;49m\u001b[38;5;124;43m'\u001b[39;49m\u001b[43m]\u001b[49m)\u001b[38;5;241m.\u001b[39mtext),\n\u001b[1;32m     14\u001b[0m   name\u001b[38;5;241m=\u001b[39m\u001b[38;5;124m\"\u001b[39m\u001b[38;5;124mwikipedia\u001b[39m\u001b[38;5;124m\"\u001b[39m\n\u001b[1;32m     15\u001b[0m )\n\u001b[1;32m     17\u001b[0m \u001b[38;5;66;03m# Step 4: we extract the date of birth, living/dead status and cause of death from the wikipedia contents\u001b[39;00m\n\u001b[1;32m     19\u001b[0m \u001b[38;5;28;01mclass\u001b[39;00m \u001b[38;5;21;01mExtractedData\u001b[39;00m(BaseModel):\n",
      "\u001b[0;31mKeyError\u001b[0m: 'wikipedia_url'"
     ]
    }
   ],
   "source": [
    "from superpipe.pipeline import Pipeline\n",
    "import requests\n",
    "import html2text\n",
    "import json\n",
    "\n",
    "h = html2text.HTML2Text()\n",
    "h.ignore_links = True\n",
    "\n",
    "# Step 3: we create a CustomStep that can execute any arbitrary function (transform)\n",
    "# The function fetches the contents of the wikipedia url and converts them to markdown\n",
    "\n",
    "fetch_wikipedia_step = CustomStep(\n",
    "  transform=lambda row: h.handle(requests.get(row['wikipedia_url']).text),\n",
    "  name=\"wikipedia\"\n",
    ")\n",
    "\n",
    "# Step 4: we extract the date of birth, living/dead status and cause of death from the wikipedia contents\n",
    "\n",
    "class ExtractedData(BaseModel):\n",
    "    date_of_birth: str = Field(description=\"The date of birth of the person in the format YYYY-MM-DD\")\n",
    "    alive: bool = Field(description=\"Whether the person is still alive\")\n",
    "    cause_of_death: str = Field(description=\"The cause of death of the person. If the person is alive, return 'N/A'\")\n",
    "\n",
    "extract_step = LLMStructuredStep(\n",
    "  model=models.gpt4,\n",
    "  prompt= lambda row: f\"\"\"Extract the date of birth for {row['name']}, whether they're still alive \\\n",
    "  and if not, their cause of death from the following Wikipedia content: \\n\\n {row['wikipedia']}\"\"\",\n",
    "  out_schema=ExtractedData,\n",
    "  name=\"extract_data\"\n",
    ")\n",
    "\n",
    "# Finally we define and run the pipeline\n",
    "\n",
    "pipeline = Pipeline([\n",
    "  search_step,\n",
    "  parse_search_step,\n",
    "  fetch_wikipedia_step,\n",
    "  extract_step\n",
    "])\n",
    "\n",
    "output = pipeline.run({\"name\": \"Jean-Paul Sartre\"})\n",
    "print(json.dumps(output, indent=2))\n"
   ]
  },
  {
   "cell_type": "markdown",
   "metadata": {},
   "source": [
    "## step 2: evaluating the pipeline [TBD}]\n",
    "\n",
    "broken into the folliowing parts:\n",
    "\n",
    "1. **a dataset with labels** - in this case we need a list of famous people and the true date of birth, living status and cause of death of each person\n",
    "2. **evaluation function** - a function that defines what \"correct\" is. We'll use simple comparison for date of birth and living status, and an LLM call to evaluate the correctness of cause of death"
   ]
  },
  {
   "cell_type": "code",
   "execution_count": null,
   "metadata": {},
   "outputs": [],
   "source": [
    "import pandas as pd\n",
    "\n",
    "data = [\n",
    "  (\"Ruth Bader Ginsburg\", \"1933-03-15\", False, \"Pancreatic cancer\"),\n",
    "  (\"Bill Gates\", \"1955-10-28\", True, \"N/A\"),\n",
    "  (\"Steph Curry\", \"1988-03-14\", True, \"N/A\"),\n",
    "  (\"Scott Belsky\", \"1980-04-18\", True, \"N/A\"),\n",
    "  (\"Steve Jobs\", \"1955-02-24\", False, \"Pancreatic tumor/cancer\"),\n",
    "  (\"Paris Hilton\", \"1981-02-17\", True, \"N/A\"),\n",
    "  (\"Kurt Vonnegut\", \"1922-11-11\", False, \"Brain injuries\"),\n",
    "  (\"Snoop Dogg\", \"1971-10-20\", True, \"N/A\"),\n",
    "  (\"Kobe Bryant\", \"1978-08-23\", False, \"Helicopter crash\"),\n",
    "  (\"Aaron Swartz\", \"1986-11-08\", False, \"Suicide\")\n",
    "]\n",
    "df = pd.DataFrame([{\"name\": d[0], \"dob_label\": d[1], \"alive_label\": d[2], \"cause_label\": d[3]} for d in data])\n",
    "\n",
    "class EvalResult(BaseModel):\n",
    "  result: bool = Field(description=\"Is the answer correct or not?\")\n",
    "\n",
    "cause_evaluator = LLMStructuredStep(\n",
    "  model=models.gpt4,\n",
    "  prompt=lambda row: f\"This is the correct cause of death: {row['cause_label']}. Is this provided cause of death accurate? The phrasing might be slightly different. Use your judgement: \\n{row['cause_of_death']}\",\n",
    "  out_schema=EvalResult,\n",
    "  name=\"cause_evaluator\")\n",
    "\n",
    "def eval_fn(row):\n",
    "  score = 0\n",
    "  if row['date_of_birth'] == row['dob_label']:\n",
    "    score += 0.25\n",
    "  if row['alive'] == row['alive_label']:\n",
    "    score += 0.25\n",
    "  if row['cause_label'] == \"N/A\":\n",
    "    if row['cause_of_death'] == \"N/A\":\n",
    "      score += 0.5\n",
    "  elif cause_evaluator.run(row)['result']:\n",
    "    score += 0.5  \n",
    "  return score\n",
    "\n",
    "pipeline.run(df)\n",
    "print(\"Score: \", pipeline.evaluate(eval_fn))\n",
    "df"
   ]
  },
  {
   "cell_type": "markdown",
   "metadata": {},
   "source": [
    "## step 3: optimizing the pipeline\n",
    "\n",
    "this pipeline has an accuracy score of 100%, but perhaps there's room for improvement on cost and speed. First let's view the cost and latency of each step to figure out which one is the bottleneck."
   ]
  },
  {
   "cell_type": "code",
   "execution_count": null,
   "metadata": {},
   "outputs": [],
   "source": [
    "for step in pipeline.steps:\n",
    "  print(f\"Step {step.name}:\")\n",
    "  print(f\"- Latency: {step.statistics.total_latency}\")\n",
    "  print(f\"- Cost: {step.statistics.input_cost + step.statistics.output_cost}\")"
   ]
  },
  {
   "cell_type": "markdown",
   "metadata": {},
   "source": [
    "Clearly the final step (`extract_data`) is the one responsible for the bulk of the cost and latency. This makes sense, because we're feeding in the entire wikipedia article to GPT-4, one of the most expensive models.\n",
    "\n",
    "Let's find out if we can get away with a cheaper/faster model. Most models cannot handle the number of tokens needed to ingest a whole wikipedia article, so we'll turn to the two that can that are also cheaper than GPT4: Claude 3 Sonnet and Claude 3 Haiku."
   ]
  },
  {
   "cell_type": "code",
   "execution_count": null,
   "metadata": {},
   "outputs": [],
   "source": [
    "from superpipe.grid_search import GridSearch\n",
    "from superpipe.models import claude3_haiku, claude3_sonnet\n",
    "from superpipe.steps import LLMStructuredCompositeStep\n",
    "\n",
    "# we need to use LLMStructuredCompositeStep which uses GPT3.5 for structured JSON extraction\n",
    "# because Claude does not support JSON mode or function calling out of the box\n",
    "new_extract_step = LLMStructuredCompositeStep(\n",
    "  model=models.claude3_haiku,\n",
    "  prompt=extract_step.prompt,\n",
    "  out_schema=ExtractedData,\n",
    "  name=\"extract_data_new\"\n",
    ")\n",
    "\n",
    "new_pipeline = Pipeline([\n",
    "  search_step,\n",
    "  parse_search_step,\n",
    "  fetch_wikipedia_step,\n",
    "  new_extract_step\n",
    "], evaluation_fn=eval_fn)\n",
    "\n",
    "param_grid = {\n",
    "  new_extract_step.name:{\n",
    "    \"model\": [claude3_haiku, claude3_sonnet]}\n",
    "}\n",
    "grid_search = GridSearch(new_pipeline, param_grid)\n",
    "grid_search.run(df)"
   ]
  },
  {
   "cell_type": "markdown",
   "metadata": {},
   "source": []
  },
  {
   "cell_type": "markdown",
   "metadata": {},
   "source": []
  },
  {
   "cell_type": "markdown",
   "metadata": {},
   "source": [
    "Strangely, Claude 3 Haiku is both more accurate (100% v/s 45%) as well as cheaper and faster. This is suprising, but useful information that we wouldn't have found out unless we built and evaluated pipelines on _our specific data_ rather than benchmark data."
   ]
  },
  {
   "cell_type": "code",
   "execution_count": null,
   "metadata": {},
   "outputs": [],
   "source": [
    "best_params = grid_search.best_params\n",
    "new_pipeline.update_params(best_params)\n",
    "new_pipeline.run(df)\n",
    "print(\"Score: \", new_pipeline.score)\n",
    "for step in new_pipeline.steps:\n",
    "  print(f\"Step {step.name}:\")\n",
    "  print(f\"- Latency: {step.statistics.total_latency}\")\n",
    "  print(f\"- Cost: {step.statistics.input_cost + step.statistics.output_cost}\")"
   ]
  }
 ],
 "metadata": {
  "kernelspec": {
   "display_name": "Python 3",
   "language": "python",
   "name": "python3"
  },
  "language_info": {
   "codemirror_mode": {
    "name": "ipython",
    "version": 3
   },
   "file_extension": ".py",
   "mimetype": "text/x-python",
   "name": "python",
   "nbconvert_exporter": "python",
   "pygments_lexer": "ipython3",
   "version": "3.10.12"
  }
 },
 "nbformat": 4,
 "nbformat_minor": 2
}
